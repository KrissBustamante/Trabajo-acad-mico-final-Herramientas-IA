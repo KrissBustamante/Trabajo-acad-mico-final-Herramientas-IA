{
  "nbformat": 4,
  "nbformat_minor": 0,
  "metadata": {
    "colab": {
      "provenance": []
    },
    "kernelspec": {
      "name": "python3",
      "display_name": "Python 3"
    },
    "language_info": {
      "name": "python"
    }
  },
  "cells": [
    {
      "cell_type": "markdown",
      "source": [
        "\n",
        "# **Generacion la base de datos**\n",
        "Aqui se muestra el siguiente notebook de como se creo la base de datos\n"
      ],
      "metadata": {
        "id": "2hKGvXpOu-Xl"
      }
    },
    {
      "cell_type": "code",
      "execution_count": 1,
      "metadata": {
        "id": "6cGrIBNQEwOa"
      },
      "outputs": [],
      "source": [
        "import sqlite3\n",
        "import pandas as pd\n",
        "import numpy as np\n",
        "\n",
        "# Crear datos\n",
        "df_eval = pd.DataFrame({\n",
        "    'id_usuario': range(1, 51),\n",
        "    'nivel_energia': np.random.randint(1, 6, size=50),\n",
        "    'motivacion': np.random.choice(['Alta', 'Media', 'Baja'], size=50),\n",
        "    'dormido_bien': np.random.choice(['Sí', 'No'], size=50)\n",
        "})\n"
      ]
    },
    {
      "cell_type": "code",
      "source": [
        "\n",
        "conn = sqlite3.connect('/content/evaluacion_personal.db')\n",
        "\n",
        "df_eval.to_sql('evaluacion_diaria', conn, if_exists='replace', index=False)\n"
      ],
      "metadata": {
        "colab": {
          "base_uri": "https://localhost:8080/"
        },
        "id": "Dse5nU94jQ_P",
        "outputId": "df3bdaa1-2e79-4ba3-e76d-b7e39dad42a4"
      },
      "execution_count": 2,
      "outputs": [
        {
          "output_type": "execute_result",
          "data": {
            "text/plain": [
              "50"
            ]
          },
          "metadata": {},
          "execution_count": 2
        }
      ]
    },
    {
      "cell_type": "code",
      "source": [
        "with open('/content/evaluacion_script.sql', 'w') as f:\n",
        "    for line in conn.iterdump():\n",
        "        f.write(f\"{line}\\n\")\n",
        "\n",
        "conn.close()\n"
      ],
      "metadata": {
        "id": "RxPOk3tSAh8l"
      },
      "execution_count": 3,
      "outputs": []
    }
  ]
}